{
 "cells": [
  {
   "cell_type": "markdown",
   "id": "25d7736c-ba17-4aff-b6bb-66eba20fbf4e",
   "metadata": {},
   "source": [
    "# Lab | Functions"
   ]
  },
  {
   "cell_type": "code",
   "execution_count": null,
   "id": "0fba1234-1518-4543-8d98-7617fc352458",
   "metadata": {},
   "outputs": [],
   "source": []
  },
  {
   "cell_type": "markdown",
   "id": "0c581062-8967-4d93-b06e-62833222f930",
   "metadata": {
    "tags": []
   },
   "source": [
    "## Exercise: Managing Customer Orders with Functions\n",
    "\n",
    "In the previous exercise, you improved the code for managing customer orders by using loops and flow control. Now, let's take it a step further and refactor the code by introducing functions.\n",
    "\n",
    "Follow the steps below to complete the exercise:\n",
    "\n",
    "1. Define a function named `initialize_inventory` that takes `products` as a parameter. Inside the function, implement the code for initializing the inventory dictionary using a loop and user input.\n",
    "\n",
    "2. Define a function named `get_customer_orders` that takes no parameters. Inside the function, implement the code for prompting the user to enter the product names using a loop. The function should return the `customer_orders` set.\n",
    "\n",
    "3. Define a function named `update_inventory` that takes `customer_orders` and `inventory` as parameters. Inside the function, implement the code for updating the inventory dictionary based on the customer orders.\n",
    "\n",
    "4. Define a function named `calculate_order_statistics` that takes `customer_orders` and `products` as parameters. Inside the function, implement the code for calculating the order statistics (total products ordered, and percentage of unique products ordered). The function should return these values.\n",
    "\n",
    "5. Define a function named `print_order_statistics` that takes `order_statistics` as a parameter. Inside the function, implement the code for printing the order statistics.\n",
    "\n",
    "6. Define a function named `print_updated_inventory` that takes `inventory` as a parameter. Inside the function, implement the code for printing the updated inventory.\n",
    "\n",
    "7. Call the functions in the appropriate sequence to execute the program and manage customer orders.\n",
    "\n",
    "Hints for functions:\n",
    "\n",
    "- Consider the input parameters required for each function and their return values.\n",
    "- Utilize function parameters and return values to transfer data between functions.\n",
    "- Test your functions individually to ensure they work correctly.\n",
    "\n",
    "\n"
   ]
  },
  {
   "cell_type": "code",
   "execution_count": 11,
   "id": "7db7b909-eca0-4f66-904c-12d0a5f0979e",
   "metadata": {},
   "outputs": [
    {
     "name": "stdin",
     "output_type": "stream",
     "text": [
      "How many t-shirts are in the inventory?  3\n",
      "How many mugs are in the inventory?  3\n",
      "How many hats are in the inventory?  3\n",
      "How many books are in the inventory?  3\n",
      "How many keychains are in the inventory?  3\n"
     ]
    },
    {
     "name": "stdout",
     "output_type": "stream",
     "text": [
      "{'t-shirt': 3, 'mug': 3, 'hat': 3, 'book': 3, 'keychain': 3}\n"
     ]
    },
    {
     "name": "stdin",
     "output_type": "stream",
     "text": [
      "What product do you like (choose from t-shirt, mug, hat, book, keychain, separated by spaces)?  mug\n",
      "Do you want to order another product? (Yes/No)  yes\n",
      "What product do you like (choose from t-shirt, mug, hat, book, keychain, separated by spaces)?  hat\n",
      "Do you want to order another product? (Yes/No)  no\n"
     ]
    },
    {
     "name": "stdout",
     "output_type": "stream",
     "text": [
      "Customer Order: {'hat', 'mug'}\n",
      "Total Products Ordered: 2\n",
      "Percentage of Products Ordered: 13.33%\n",
      "{'t-shirt': 3, 'mug': 2, 'hat': 2, 'book': 3, 'keychain': 3}\n"
     ]
    }
   ],
   "source": [
    "products = [\"t-shirt\", \"mug\", \"hat\", \"book\", \"keychain\"]\n",
    "total_inventory = 0\n",
    "inventory = {}\n",
    "def initialize_inventory(products):\n",
    "    global total_inventory \n",
    "    for product in products:\n",
    "        quantity = int(input(f'How many {product}s are in the inventory? '))\n",
    "        inventory[product] = quantity\n",
    "        total_inventory += quantity\n",
    "    print(inventory)\n",
    "    return inventory\n",
    "\n",
    "def get_customer_orders():\n",
    "    customer_orders = set()\n",
    "    order_input = input('What product do you like (choose from t-shirt, mug, hat, book, keychain, separated by spaces)? ').lower()\n",
    "    while True:\n",
    "        for product in order_input.split():\n",
    "            if product in products:\n",
    "                customer_orders.add(product)\n",
    "        another = input('Do you want to order another product? (Yes/No) ').lower()\n",
    "        if another != 'yes':\n",
    "            break\n",
    "        order_input = input('What product do you like (choose from t-shirt, mug, hat, book, keychain, separated by spaces)? ').lower()\n",
    "    for product in order_input:\n",
    "        if product in products:  \n",
    "            customer_orders.add(product)\n",
    "    print(\"Customer Order:\", customer_orders)\n",
    "    return customer_orders\n",
    "\n",
    "def update_inventory(inventory, customer_orders):\n",
    "    for product in customer_orders:\n",
    "        if product in inventory and inventory[product] > 0:\n",
    "            inventory[product] -= 1\n",
    "    return inventory\n",
    "    \n",
    "def calculate_order_statistics(customer_orders, products):\n",
    "    total_products_ordered = len(customer_orders)\n",
    "    percentage_ordered = (total_products_ordered / total_inventory) * 100 if total_inventory > 0 else 0\n",
    "    order_status = (total_products_ordered, percentage_ordered)\n",
    "    return order_status\n",
    "\n",
    "def print_order_statistics(order_status):\n",
    "    print(f\"Total Products Ordered: {order_status[0]}\")\n",
    "    print(f\"Percentage of Products Ordered: {order_status[1]:.2f}%\")\n",
    "\n",
    "def print_updated_inventory(inventory):\n",
    "    print(inventory)\n",
    "\n",
    "new_inventory = initialize_inventory(products);\n",
    "new_customer_order = get_customer_orders();\n",
    "new_inventory = update_inventory(new_inventory, new_customer_order);\n",
    "new_order_status = calculate_order_statistics(new_customer_order, products);\n",
    "print_order_statistics(new_order_status);\n",
    "print_updated_inventory(new_inventory)"
   ]
  },
  {
   "cell_type": "code",
   "execution_count": null,
   "id": "2e83f4ab-da07-42dc-8bc8-0f622c63eb76",
   "metadata": {},
   "outputs": [],
   "source": []
  }
 ],
 "metadata": {
  "kernelspec": {
   "display_name": "Python 3 (ipykernel)",
   "language": "python",
   "name": "python3"
  },
  "language_info": {
   "codemirror_mode": {
    "name": "ipython",
    "version": 3
   },
   "file_extension": ".py",
   "mimetype": "text/x-python",
   "name": "python",
   "nbconvert_exporter": "python",
   "pygments_lexer": "ipython3",
   "version": "3.12.4"
  }
 },
 "nbformat": 4,
 "nbformat_minor": 5
}
